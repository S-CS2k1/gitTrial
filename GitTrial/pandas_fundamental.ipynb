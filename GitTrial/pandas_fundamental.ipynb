{
  "nbformat": 4,
  "nbformat_minor": 0,
  "metadata": {
    "colab": {
      "provenance": []
    },
    "kernelspec": {
      "name": "python3",
      "display_name": "Python 3"
    },
    "language_info": {
      "name": "python"
    }
  },
  "cells": [
    {
      "cell_type": "markdown",
      "source": [
        "**Pandas**\n",
        "\n",
        "It is a python library for data set manipulation."
      ],
      "metadata": {
        "id": "tzNj8FvQ366Y"
      }
    },
    {
      "cell_type": "code",
      "source": [
        "import pandas as pd\n",
        "\n",
        "bikes = {\n",
        "    'Brand' : ['RE', 'KTM', 'Honda', 'BMW'],\n",
        "    'Model' : [2010, 2020, 2012, 2018]\n",
        "}\n",
        "\n",
        "bikes_df = pd.DataFrame(bikes)\n",
        "#parameter(data)\n",
        "#ndarray (structured or homogeneous), Iterable, dict, or DataFrame\n",
        "#Dict can contain Series, arrays, constants, dataclass or list-like objects. If\n",
        "#data is a dict, column order follows insertion-order. If a dict contains Series\n",
        "#which have an index defined, it is aligned by its index.\n",
        "print(bikes_df)"
      ],
      "metadata": {
        "colab": {
          "base_uri": "https://localhost:8080/"
        },
        "id": "i3R7ug6S3lMG",
        "outputId": "56c69a9e-326a-4e98-ae08-dae586aa80ad"
      },
      "execution_count": 4,
      "outputs": [
        {
          "output_type": "stream",
          "name": "stdout",
          "text": [
            "   Brand  Model\n",
            "0     RE   2010\n",
            "1    KTM   2020\n",
            "2  Honda   2012\n",
            "3    BMW   2018\n"
          ]
        }
      ]
    },
    {
      "cell_type": "code",
      "source": [
        "arr = [1,2,3,4,5,6,7]\n",
        "brr = pd.Series(arr)\n",
        "\n",
        "#Series : One-dimensional ndarray with axis labels (including time series).\n",
        "\n",
        "print(brr)\n",
        "print(type(brr))\n",
        "#brr is an 0-indexed array\n",
        "print(brr[3])"
      ],
      "metadata": {
        "colab": {
          "base_uri": "https://localhost:8080/"
        },
        "id": "UB5p_Nq_40a3",
        "outputId": "5b1fc03d-0a11-4eda-cb7a-37ee316d3b2c"
      },
      "execution_count": 8,
      "outputs": [
        {
          "output_type": "stream",
          "name": "stdout",
          "text": [
            "0    1\n",
            "1    2\n",
            "2    3\n",
            "3    4\n",
            "4    5\n",
            "5    6\n",
            "6    7\n",
            "dtype: int64\n",
            "<class 'pandas.core.series.Series'>\n",
            "4\n"
          ]
        }
      ]
    },
    {
      "cell_type": "code",
      "source": [
        "#changing index in pd.Series\n",
        "\n",
        "brr = pd.Series(arr, index = ['x','y','z','u','v','s','t'])\n",
        "\n",
        "print(brr)\n",
        "print(brr['u'])"
      ],
      "metadata": {
        "colab": {
          "base_uri": "https://localhost:8080/"
        },
        "id": "GY29ofYw6fEj",
        "outputId": "f40ff45a-66a7-4789-dc91-c42a284c47fa"
      },
      "execution_count": 9,
      "outputs": [
        {
          "output_type": "stream",
          "name": "stdout",
          "text": [
            "x    1\n",
            "y    2\n",
            "z    3\n",
            "u    4\n",
            "v    5\n",
            "s    6\n",
            "t    7\n",
            "dtype: int64\n",
            "4\n"
          ]
        }
      ]
    },
    {
      "cell_type": "code",
      "source": [
        "employee_hours = {\n",
        "    'Day01' : 8,\n",
        "    'Day02' : 6,\n",
        "    'Day03' : 7,\n",
        "    'Day04' : 8,\n",
        "    'Day05' : 7\n",
        "}\n",
        "\n",
        "hours_series = pd.Series(employee_hours);\n",
        "\n",
        "print(hours_series)"
      ],
      "metadata": {
        "colab": {
          "base_uri": "https://localhost:8080/"
        },
        "id": "CuHDieHw7zID",
        "outputId": "726dd471-d786-41f3-98f2-90a2eb7ec4f0"
      },
      "execution_count": 10,
      "outputs": [
        {
          "output_type": "stream",
          "name": "stdout",
          "text": [
            "Day01    8\n",
            "Day02    6\n",
            "Day03    7\n",
            "Day04    8\n",
            "Day05    7\n",
            "dtype: int64\n"
          ]
        }
      ]
    },
    {
      "cell_type": "code",
      "source": [
        "salary = {\n",
        "    'index'\n",
        "    'id' : [1,2,3,4,5],\n",
        "    'amt' : [35000,40000,50000,100000,75000]\n",
        "}\n",
        "\n",
        "df = pd.DataFrame(salary)\n",
        "\n",
        "print(df)"
      ],
      "metadata": {
        "colab": {
          "base_uri": "https://localhost:8080/"
        },
        "id": "w1eRBMOp_UaN",
        "outputId": "7ffb207f-a39d-456d-a18c-a07eda13735a"
      },
      "execution_count": 12,
      "outputs": [
        {
          "output_type": "stream",
          "name": "stdout",
          "text": [
            "   id     amt\n",
            "0   1   35000\n",
            "1   2   40000\n",
            "2   3   50000\n",
            "3   4  100000\n",
            "4   5   75000\n"
          ]
        }
      ]
    },
    {
      "cell_type": "code",
      "source": [
        "print(df.loc[4])"
      ],
      "metadata": {
        "colab": {
          "base_uri": "https://localhost:8080/"
        },
        "id": "2jICAKj_AikK",
        "outputId": "cc36efa2-4e69-4ba6-f7bf-b0ab90ee348e"
      },
      "execution_count": 13,
      "outputs": [
        {
          "output_type": "stream",
          "name": "stdout",
          "text": [
            "id         5\n",
            "amt    75000\n",
            "Name: 4, dtype: int64\n"
          ]
        }
      ]
    },
    {
      "cell_type": "markdown",
      "source": [
        "**Reading CSV files**"
      ],
      "metadata": {
        "id": "7Q4EOyxgGho7"
      }
    },
    {
      "cell_type": "code",
      "source": [
        "import pandas as pd\n",
        "\n",
        "df = pd.read_csv('pat_data.csv')\n",
        "\n",
        "print(df.to_string()) #displays complete dataframe."
      ],
      "metadata": {
        "colab": {
          "base_uri": "https://localhost:8080/"
        },
        "id": "P57El_ERBbDC",
        "outputId": "95d71e98-dace-4573-ef05-f59b7a52ae18"
      },
      "execution_count": 16,
      "outputs": [
        {
          "output_type": "stream",
          "name": "stdout",
          "text": [
            "     Duration  Pulse  Maxpulse   Sugar\n",
            "0          60    110       130   409.1\n",
            "1          60    117       145   479.0\n",
            "2          60    103       135   340.0\n",
            "3          45    109       175   282.4\n",
            "4          45    117       148   406.0\n",
            "5          60    102       127   300.0\n",
            "6          60    110       136   374.0\n",
            "7          45    104       134   253.3\n",
            "8          30    109       133   195.1\n",
            "9          60     98       124   269.0\n",
            "10         60    103       147   329.3\n",
            "11         60    100       120   250.7\n",
            "12         60    106       128   345.3\n",
            "13         60    104       132   379.3\n",
            "14         60     98       123   275.0\n",
            "15         60     98       120   215.2\n",
            "16         60    100       120   300.0\n",
            "17         45     90       112     NaN\n",
            "18         60    103       123   323.0\n",
            "19         45     97       125   243.0\n",
            "20         60    108       131   364.2\n",
            "21         45    100       119   282.0\n",
            "22         60    130       101   300.0\n",
            "23         45    105       132   246.0\n",
            "24         60    102       126   334.5\n",
            "25         60    100       120   250.0\n",
            "26         60     92       118   241.0\n",
            "27         60    103       132     NaN\n",
            "28         60    100       132   280.0\n",
            "29         60    102       129   380.3\n",
            "30         60     92       115   243.0\n",
            "31         45     90       112   180.1\n",
            "32         60    101       124   299.0\n",
            "33         60     93       113   223.0\n",
            "34         60    107       136   361.0\n",
            "35         60    114       140   415.0\n",
            "36         60    102       127   300.0\n",
            "37         60    100       120   300.0\n",
            "38         60    100       120   300.0\n",
            "39         45    104       129   266.0\n",
            "40         45     90       112   180.1\n",
            "41         60     98       126   286.0\n",
            "42         60    100       122   329.4\n",
            "43         60    111       138   400.0\n",
            "44         60    111       131   397.0\n",
            "45         60     99       119   273.0\n",
            "46         60    109       153   387.6\n",
            "47         45    111       136   300.0\n",
            "48         45    108       129   298.0\n",
            "49         60    111       139   397.6\n",
            "50         60    107       136   380.2\n",
            "51         80    123       146   643.1\n",
            "52         60    106       130   263.0\n",
            "53         60    118       151   486.0\n",
            "54         30    136       175   238.0\n",
            "55         60    121       146   450.7\n",
            "56         60    118       121   413.0\n",
            "57         45    115       144   305.0\n",
            "58         20    153       172   226.4\n",
            "59         45    123       152   321.0\n",
            "60        210    108       160  1376.0\n",
            "61        160    110       137  1034.4\n",
            "62        160    109       135   853.0\n",
            "63         45    118       141   341.0\n",
            "64         20    110       130   131.4\n",
            "65        180     90       130   800.4\n",
            "66        150    105       135   873.4\n",
            "67        150    107       130   816.0\n",
            "68         20    106       136   110.4\n",
            "69        300    108       143  1500.2\n",
            "70        150     97       129  1115.0\n",
            "71         60    109       153   387.6\n",
            "72         90    100       127   700.0\n",
            "73        150     97       127   953.2\n",
            "74         45    114       146   304.0\n",
            "75         90     98       125   563.2\n",
            "76         45    105       134   251.0\n",
            "77         45    110       141   300.0\n",
            "78        120    100       130   500.4\n",
            "79        270    100       131  1729.0\n",
            "80         30    159       182   319.2\n",
            "81         45    149       169   344.0\n",
            "82         30    103       139   151.1\n",
            "83        120    100       130   500.0\n",
            "84         45    100       120   225.3\n",
            "85         30    151       170   300.0\n",
            "86         45    102       136   234.0\n",
            "87        120    100       157  1000.1\n",
            "88         45    129       103   242.0\n",
            "89         20     83       107    50.3\n",
            "90        180    101       127   600.1\n",
            "91         45    107       137     NaN\n",
            "92         30     90       107   105.3\n",
            "93         15     80       100    50.5\n",
            "94         20    150       171   127.4\n",
            "95         20    151       168   229.4\n",
            "96         30     95       128   128.2\n",
            "97         25    152       168   244.2\n",
            "98         30    109       131   188.2\n",
            "99         90     93       124   604.1\n",
            "100        20     95       112    77.7\n",
            "101        90     90       110   500.0\n",
            "102        90     90       100   500.0\n",
            "103        90     90       100   500.4\n",
            "104        30     92       108    92.7\n",
            "105        30     93       128   124.0\n",
            "106       180     90       120   800.3\n",
            "107        30     90       120    86.2\n",
            "108        90     90       120   500.3\n",
            "109       210    137       184  1860.4\n",
            "110        60    102       124   325.2\n",
            "111        45    107       124   275.0\n",
            "112        15    124       139   124.2\n",
            "113        45    100       120   225.3\n",
            "114        60    108       131   367.6\n",
            "115        60    108       151   351.7\n",
            "116        60    116       141   443.0\n",
            "117        60     97       122   277.4\n",
            "118        60    105       125     NaN\n",
            "119        60    103       124   332.7\n",
            "120        30    112       137   193.9\n",
            "121        45    100       120   100.7\n",
            "122        60    119       169   336.7\n",
            "123        60    107       127   344.9\n",
            "124        60    111       151   368.5\n",
            "125        60     98       122   271.0\n",
            "126        60     97       124   275.3\n",
            "127        60    109       127   382.0\n",
            "128        90     99       125   466.4\n",
            "129        60    114       151   384.0\n",
            "130        60    104       134   342.5\n",
            "131        60    107       138   357.5\n",
            "132        60    103       133   335.0\n",
            "133        60    106       132   327.5\n",
            "134        60    103       136   339.0\n",
            "135        20    136       156   189.0\n",
            "136        45    117       143   317.7\n",
            "137        45    115       137   318.0\n",
            "138        45    113       138   308.0\n",
            "139        20    141       162   222.4\n",
            "140        60    108       135   390.0\n",
            "141        60     97       127     NaN\n",
            "142        45    100       120   250.4\n",
            "143        45    122       149   335.4\n",
            "144        60    136       170   470.2\n",
            "145        45    106       126   270.8\n",
            "146        60    107       136   400.0\n",
            "147        60    112       146   361.9\n",
            "148        30    103       127   185.0\n",
            "149        60    110       150   409.4\n",
            "150        60    106       134   343.0\n",
            "151        60    109       129   353.2\n",
            "152        60    109       138   374.0\n",
            "153        30    150       167   275.8\n",
            "154        60    105       128   328.0\n",
            "155        60    111       151   368.5\n",
            "156        60     97       131   270.4\n",
            "157        60    100       120   270.4\n",
            "158        60    114       150   382.8\n",
            "159        30     80       120   240.9\n",
            "160        30     85       120   250.4\n",
            "161        45     90       130   260.4\n",
            "162        45     95       130   270.0\n",
            "163        45    100       140   280.9\n",
            "164        60    105       140   290.8\n",
            "165        60    110       145   300.0\n",
            "166        60    115       145   310.2\n",
            "167        75    120       150   320.4\n",
            "168        75    125       150   330.4\n"
          ]
        }
      ]
    },
    {
      "cell_type": "code",
      "source": [
        "print(df) #shows only fisrt 5 entries and last 5 entries"
      ],
      "metadata": {
        "colab": {
          "base_uri": "https://localhost:8080/"
        },
        "id": "2AHhYsY6G56z",
        "outputId": "8cf4e68a-03bd-4da7-a263-7f14e47f87a2"
      },
      "execution_count": 17,
      "outputs": [
        {
          "output_type": "stream",
          "name": "stdout",
          "text": [
            "     Duration  Pulse  Maxpulse  Sugar\n",
            "0          60    110       130  409.1\n",
            "1          60    117       145  479.0\n",
            "2          60    103       135  340.0\n",
            "3          45    109       175  282.4\n",
            "4          45    117       148  406.0\n",
            "..        ...    ...       ...    ...\n",
            "164        60    105       140  290.8\n",
            "165        60    110       145  300.0\n",
            "166        60    115       145  310.2\n",
            "167        75    120       150  320.4\n",
            "168        75    125       150  330.4\n",
            "\n",
            "[169 rows x 4 columns]\n"
          ]
        }
      ]
    },
    {
      "cell_type": "code",
      "source": [
        "print(pd.options.display.max_rows) #shows the default max rows"
      ],
      "metadata": {
        "colab": {
          "base_uri": "https://localhost:8080/"
        },
        "id": "DF8wDscwIEQ5",
        "outputId": "825d9de8-cd5e-4f65-e969-1d46b5c8a1ca"
      },
      "execution_count": 18,
      "outputs": [
        {
          "output_type": "stream",
          "name": "stdout",
          "text": [
            "60\n"
          ]
        }
      ]
    },
    {
      "cell_type": "code",
      "source": [
        "pd.options.display.max_rows = 999 #changing max rows for display\n",
        "\n",
        "print(df)"
      ],
      "metadata": {
        "colab": {
          "base_uri": "https://localhost:8080/"
        },
        "id": "qWodCO8jIo_U",
        "outputId": "3f79907c-aafe-4267-9fba-4948a4814306"
      },
      "execution_count": 19,
      "outputs": [
        {
          "output_type": "stream",
          "name": "stdout",
          "text": [
            "     Duration  Pulse  Maxpulse   Sugar\n",
            "0          60    110       130   409.1\n",
            "1          60    117       145   479.0\n",
            "2          60    103       135   340.0\n",
            "3          45    109       175   282.4\n",
            "4          45    117       148   406.0\n",
            "5          60    102       127   300.0\n",
            "6          60    110       136   374.0\n",
            "7          45    104       134   253.3\n",
            "8          30    109       133   195.1\n",
            "9          60     98       124   269.0\n",
            "10         60    103       147   329.3\n",
            "11         60    100       120   250.7\n",
            "12         60    106       128   345.3\n",
            "13         60    104       132   379.3\n",
            "14         60     98       123   275.0\n",
            "15         60     98       120   215.2\n",
            "16         60    100       120   300.0\n",
            "17         45     90       112     NaN\n",
            "18         60    103       123   323.0\n",
            "19         45     97       125   243.0\n",
            "20         60    108       131   364.2\n",
            "21         45    100       119   282.0\n",
            "22         60    130       101   300.0\n",
            "23         45    105       132   246.0\n",
            "24         60    102       126   334.5\n",
            "25         60    100       120   250.0\n",
            "26         60     92       118   241.0\n",
            "27         60    103       132     NaN\n",
            "28         60    100       132   280.0\n",
            "29         60    102       129   380.3\n",
            "30         60     92       115   243.0\n",
            "31         45     90       112   180.1\n",
            "32         60    101       124   299.0\n",
            "33         60     93       113   223.0\n",
            "34         60    107       136   361.0\n",
            "35         60    114       140   415.0\n",
            "36         60    102       127   300.0\n",
            "37         60    100       120   300.0\n",
            "38         60    100       120   300.0\n",
            "39         45    104       129   266.0\n",
            "40         45     90       112   180.1\n",
            "41         60     98       126   286.0\n",
            "42         60    100       122   329.4\n",
            "43         60    111       138   400.0\n",
            "44         60    111       131   397.0\n",
            "45         60     99       119   273.0\n",
            "46         60    109       153   387.6\n",
            "47         45    111       136   300.0\n",
            "48         45    108       129   298.0\n",
            "49         60    111       139   397.6\n",
            "50         60    107       136   380.2\n",
            "51         80    123       146   643.1\n",
            "52         60    106       130   263.0\n",
            "53         60    118       151   486.0\n",
            "54         30    136       175   238.0\n",
            "55         60    121       146   450.7\n",
            "56         60    118       121   413.0\n",
            "57         45    115       144   305.0\n",
            "58         20    153       172   226.4\n",
            "59         45    123       152   321.0\n",
            "60        210    108       160  1376.0\n",
            "61        160    110       137  1034.4\n",
            "62        160    109       135   853.0\n",
            "63         45    118       141   341.0\n",
            "64         20    110       130   131.4\n",
            "65        180     90       130   800.4\n",
            "66        150    105       135   873.4\n",
            "67        150    107       130   816.0\n",
            "68         20    106       136   110.4\n",
            "69        300    108       143  1500.2\n",
            "70        150     97       129  1115.0\n",
            "71         60    109       153   387.6\n",
            "72         90    100       127   700.0\n",
            "73        150     97       127   953.2\n",
            "74         45    114       146   304.0\n",
            "75         90     98       125   563.2\n",
            "76         45    105       134   251.0\n",
            "77         45    110       141   300.0\n",
            "78        120    100       130   500.4\n",
            "79        270    100       131  1729.0\n",
            "80         30    159       182   319.2\n",
            "81         45    149       169   344.0\n",
            "82         30    103       139   151.1\n",
            "83        120    100       130   500.0\n",
            "84         45    100       120   225.3\n",
            "85         30    151       170   300.0\n",
            "86         45    102       136   234.0\n",
            "87        120    100       157  1000.1\n",
            "88         45    129       103   242.0\n",
            "89         20     83       107    50.3\n",
            "90        180    101       127   600.1\n",
            "91         45    107       137     NaN\n",
            "92         30     90       107   105.3\n",
            "93         15     80       100    50.5\n",
            "94         20    150       171   127.4\n",
            "95         20    151       168   229.4\n",
            "96         30     95       128   128.2\n",
            "97         25    152       168   244.2\n",
            "98         30    109       131   188.2\n",
            "99         90     93       124   604.1\n",
            "100        20     95       112    77.7\n",
            "101        90     90       110   500.0\n",
            "102        90     90       100   500.0\n",
            "103        90     90       100   500.4\n",
            "104        30     92       108    92.7\n",
            "105        30     93       128   124.0\n",
            "106       180     90       120   800.3\n",
            "107        30     90       120    86.2\n",
            "108        90     90       120   500.3\n",
            "109       210    137       184  1860.4\n",
            "110        60    102       124   325.2\n",
            "111        45    107       124   275.0\n",
            "112        15    124       139   124.2\n",
            "113        45    100       120   225.3\n",
            "114        60    108       131   367.6\n",
            "115        60    108       151   351.7\n",
            "116        60    116       141   443.0\n",
            "117        60     97       122   277.4\n",
            "118        60    105       125     NaN\n",
            "119        60    103       124   332.7\n",
            "120        30    112       137   193.9\n",
            "121        45    100       120   100.7\n",
            "122        60    119       169   336.7\n",
            "123        60    107       127   344.9\n",
            "124        60    111       151   368.5\n",
            "125        60     98       122   271.0\n",
            "126        60     97       124   275.3\n",
            "127        60    109       127   382.0\n",
            "128        90     99       125   466.4\n",
            "129        60    114       151   384.0\n",
            "130        60    104       134   342.5\n",
            "131        60    107       138   357.5\n",
            "132        60    103       133   335.0\n",
            "133        60    106       132   327.5\n",
            "134        60    103       136   339.0\n",
            "135        20    136       156   189.0\n",
            "136        45    117       143   317.7\n",
            "137        45    115       137   318.0\n",
            "138        45    113       138   308.0\n",
            "139        20    141       162   222.4\n",
            "140        60    108       135   390.0\n",
            "141        60     97       127     NaN\n",
            "142        45    100       120   250.4\n",
            "143        45    122       149   335.4\n",
            "144        60    136       170   470.2\n",
            "145        45    106       126   270.8\n",
            "146        60    107       136   400.0\n",
            "147        60    112       146   361.9\n",
            "148        30    103       127   185.0\n",
            "149        60    110       150   409.4\n",
            "150        60    106       134   343.0\n",
            "151        60    109       129   353.2\n",
            "152        60    109       138   374.0\n",
            "153        30    150       167   275.8\n",
            "154        60    105       128   328.0\n",
            "155        60    111       151   368.5\n",
            "156        60     97       131   270.4\n",
            "157        60    100       120   270.4\n",
            "158        60    114       150   382.8\n",
            "159        30     80       120   240.9\n",
            "160        30     85       120   250.4\n",
            "161        45     90       130   260.4\n",
            "162        45     95       130   270.0\n",
            "163        45    100       140   280.9\n",
            "164        60    105       140   290.8\n",
            "165        60    110       145   300.0\n",
            "166        60    115       145   310.2\n",
            "167        75    120       150   320.4\n",
            "168        75    125       150   330.4\n"
          ]
        }
      ]
    },
    {
      "cell_type": "markdown",
      "source": [
        "**Data Analysis**"
      ],
      "metadata": {
        "id": "hbe0-jq2JVAf"
      }
    },
    {
      "cell_type": "code",
      "source": [
        "print(df.head(20)) #without the parameter it displays the first 5 rows"
      ],
      "metadata": {
        "colab": {
          "base_uri": "https://localhost:8080/"
        },
        "id": "UpuBFTXDJGha",
        "outputId": "f4b93212-cc4f-4771-901b-20b0e8334639"
      },
      "execution_count": 20,
      "outputs": [
        {
          "output_type": "stream",
          "name": "stdout",
          "text": [
            "    Duration  Pulse  Maxpulse  Sugar\n",
            "0         60    110       130  409.1\n",
            "1         60    117       145  479.0\n",
            "2         60    103       135  340.0\n",
            "3         45    109       175  282.4\n",
            "4         45    117       148  406.0\n",
            "5         60    102       127  300.0\n",
            "6         60    110       136  374.0\n",
            "7         45    104       134  253.3\n",
            "8         30    109       133  195.1\n",
            "9         60     98       124  269.0\n",
            "10        60    103       147  329.3\n",
            "11        60    100       120  250.7\n",
            "12        60    106       128  345.3\n",
            "13        60    104       132  379.3\n",
            "14        60     98       123  275.0\n",
            "15        60     98       120  215.2\n",
            "16        60    100       120  300.0\n",
            "17        45     90       112    NaN\n",
            "18        60    103       123  323.0\n",
            "19        45     97       125  243.0\n"
          ]
        }
      ]
    },
    {
      "cell_type": "code",
      "source": [
        "print(df.tail()) #when parameter is passed, it displays bottom 5 rows"
      ],
      "metadata": {
        "colab": {
          "base_uri": "https://localhost:8080/"
        },
        "id": "ouoDttqRJewo",
        "outputId": "0c13aa68-9223-4c8e-9415-4401b5c846fc"
      },
      "execution_count": 21,
      "outputs": [
        {
          "output_type": "stream",
          "name": "stdout",
          "text": [
            "     Duration  Pulse  Maxpulse  Sugar\n",
            "164        60    105       140  290.8\n",
            "165        60    110       145  300.0\n",
            "166        60    115       145  310.2\n",
            "167        75    120       150  320.4\n",
            "168        75    125       150  330.4\n"
          ]
        }
      ]
    },
    {
      "cell_type": "code",
      "source": [
        "print(df.info())"
      ],
      "metadata": {
        "colab": {
          "base_uri": "https://localhost:8080/"
        },
        "id": "aqP0pcMTJxzo",
        "outputId": "ff3210ab-7735-40d9-ca95-dfadb50c33f8"
      },
      "execution_count": 22,
      "outputs": [
        {
          "output_type": "stream",
          "name": "stdout",
          "text": [
            "<class 'pandas.core.frame.DataFrame'>\n",
            "RangeIndex: 169 entries, 0 to 168\n",
            "Data columns (total 4 columns):\n",
            " #   Column    Non-Null Count  Dtype  \n",
            "---  ------    --------------  -----  \n",
            " 0   Duration  169 non-null    int64  \n",
            " 1   Pulse     169 non-null    int64  \n",
            " 2   Maxpulse  169 non-null    int64  \n",
            " 3   Sugar     164 non-null    float64\n",
            "dtypes: float64(1), int64(3)\n",
            "memory usage: 5.4 KB\n",
            "None\n"
          ]
        }
      ]
    },
    {
      "cell_type": "markdown",
      "source": [
        "**Data Cleaning**"
      ],
      "metadata": {
        "id": "O0Ny7vJeKuEU"
      }
    },
    {
      "cell_type": "code",
      "source": [
        "# here we will try rectify data format, wrong data, empty cells and duplicates\n",
        "\n",
        "df_date = pd.read_csv('pat_data_date.csv')\n",
        "\n",
        "df_date.head()"
      ],
      "metadata": {
        "colab": {
          "base_uri": "https://localhost:8080/",
          "height": 206
        },
        "id": "2ho6stbaKRU9",
        "outputId": "8ec7632c-0db4-4f9e-9454-c6647db52254"
      },
      "execution_count": 24,
      "outputs": [
        {
          "output_type": "execute_result",
          "data": {
            "text/plain": [
              "   Duration          Date  Pulse  Maxpulse  Sugar\n",
              "0        60  '2020/12/01'    110       130  409.1\n",
              "1        60  '2020/12/02'    117       145  479.0\n",
              "2        60  '2020/12/03'    103       135  340.0\n",
              "3        45  '2020/12/04'    109       175  282.4\n",
              "4        45  '2020/12/05'    117       148  406.0"
            ],
            "text/html": [
              "\n",
              "  <div id=\"df-e41ee78a-825c-4496-90bd-8c1cb0cff7df\" class=\"colab-df-container\">\n",
              "    <div>\n",
              "<style scoped>\n",
              "    .dataframe tbody tr th:only-of-type {\n",
              "        vertical-align: middle;\n",
              "    }\n",
              "\n",
              "    .dataframe tbody tr th {\n",
              "        vertical-align: top;\n",
              "    }\n",
              "\n",
              "    .dataframe thead th {\n",
              "        text-align: right;\n",
              "    }\n",
              "</style>\n",
              "<table border=\"1\" class=\"dataframe\">\n",
              "  <thead>\n",
              "    <tr style=\"text-align: right;\">\n",
              "      <th></th>\n",
              "      <th>Duration</th>\n",
              "      <th>Date</th>\n",
              "      <th>Pulse</th>\n",
              "      <th>Maxpulse</th>\n",
              "      <th>Sugar</th>\n",
              "    </tr>\n",
              "  </thead>\n",
              "  <tbody>\n",
              "    <tr>\n",
              "      <th>0</th>\n",
              "      <td>60</td>\n",
              "      <td>'2020/12/01'</td>\n",
              "      <td>110</td>\n",
              "      <td>130</td>\n",
              "      <td>409.1</td>\n",
              "    </tr>\n",
              "    <tr>\n",
              "      <th>1</th>\n",
              "      <td>60</td>\n",
              "      <td>'2020/12/02'</td>\n",
              "      <td>117</td>\n",
              "      <td>145</td>\n",
              "      <td>479.0</td>\n",
              "    </tr>\n",
              "    <tr>\n",
              "      <th>2</th>\n",
              "      <td>60</td>\n",
              "      <td>'2020/12/03'</td>\n",
              "      <td>103</td>\n",
              "      <td>135</td>\n",
              "      <td>340.0</td>\n",
              "    </tr>\n",
              "    <tr>\n",
              "      <th>3</th>\n",
              "      <td>45</td>\n",
              "      <td>'2020/12/04'</td>\n",
              "      <td>109</td>\n",
              "      <td>175</td>\n",
              "      <td>282.4</td>\n",
              "    </tr>\n",
              "    <tr>\n",
              "      <th>4</th>\n",
              "      <td>45</td>\n",
              "      <td>'2020/12/05'</td>\n",
              "      <td>117</td>\n",
              "      <td>148</td>\n",
              "      <td>406.0</td>\n",
              "    </tr>\n",
              "  </tbody>\n",
              "</table>\n",
              "</div>\n",
              "    <div class=\"colab-df-buttons\">\n",
              "\n",
              "  <div class=\"colab-df-container\">\n",
              "    <button class=\"colab-df-convert\" onclick=\"convertToInteractive('df-e41ee78a-825c-4496-90bd-8c1cb0cff7df')\"\n",
              "            title=\"Convert this dataframe to an interactive table.\"\n",
              "            style=\"display:none;\">\n",
              "\n",
              "  <svg xmlns=\"http://www.w3.org/2000/svg\" height=\"24px\" viewBox=\"0 -960 960 960\">\n",
              "    <path d=\"M120-120v-720h720v720H120Zm60-500h600v-160H180v160Zm220 220h160v-160H400v160Zm0 220h160v-160H400v160ZM180-400h160v-160H180v160Zm440 0h160v-160H620v160ZM180-180h160v-160H180v160Zm440 0h160v-160H620v160Z\"/>\n",
              "  </svg>\n",
              "    </button>\n",
              "\n",
              "  <style>\n",
              "    .colab-df-container {\n",
              "      display:flex;\n",
              "      gap: 12px;\n",
              "    }\n",
              "\n",
              "    .colab-df-convert {\n",
              "      background-color: #E8F0FE;\n",
              "      border: none;\n",
              "      border-radius: 50%;\n",
              "      cursor: pointer;\n",
              "      display: none;\n",
              "      fill: #1967D2;\n",
              "      height: 32px;\n",
              "      padding: 0 0 0 0;\n",
              "      width: 32px;\n",
              "    }\n",
              "\n",
              "    .colab-df-convert:hover {\n",
              "      background-color: #E2EBFA;\n",
              "      box-shadow: 0px 1px 2px rgba(60, 64, 67, 0.3), 0px 1px 3px 1px rgba(60, 64, 67, 0.15);\n",
              "      fill: #174EA6;\n",
              "    }\n",
              "\n",
              "    .colab-df-buttons div {\n",
              "      margin-bottom: 4px;\n",
              "    }\n",
              "\n",
              "    [theme=dark] .colab-df-convert {\n",
              "      background-color: #3B4455;\n",
              "      fill: #D2E3FC;\n",
              "    }\n",
              "\n",
              "    [theme=dark] .colab-df-convert:hover {\n",
              "      background-color: #434B5C;\n",
              "      box-shadow: 0px 1px 3px 1px rgba(0, 0, 0, 0.15);\n",
              "      filter: drop-shadow(0px 1px 2px rgba(0, 0, 0, 0.3));\n",
              "      fill: #FFFFFF;\n",
              "    }\n",
              "  </style>\n",
              "\n",
              "    <script>\n",
              "      const buttonEl =\n",
              "        document.querySelector('#df-e41ee78a-825c-4496-90bd-8c1cb0cff7df button.colab-df-convert');\n",
              "      buttonEl.style.display =\n",
              "        google.colab.kernel.accessAllowed ? 'block' : 'none';\n",
              "\n",
              "      async function convertToInteractive(key) {\n",
              "        const element = document.querySelector('#df-e41ee78a-825c-4496-90bd-8c1cb0cff7df');\n",
              "        const dataTable =\n",
              "          await google.colab.kernel.invokeFunction('convertToInteractive',\n",
              "                                                    [key], {});\n",
              "        if (!dataTable) return;\n",
              "\n",
              "        const docLinkHtml = 'Like what you see? Visit the ' +\n",
              "          '<a target=\"_blank\" href=https://colab.research.google.com/notebooks/data_table.ipynb>data table notebook</a>'\n",
              "          + ' to learn more about interactive tables.';\n",
              "        element.innerHTML = '';\n",
              "        dataTable['output_type'] = 'display_data';\n",
              "        await google.colab.output.renderOutput(dataTable, element);\n",
              "        const docLink = document.createElement('div');\n",
              "        docLink.innerHTML = docLinkHtml;\n",
              "        element.appendChild(docLink);\n",
              "      }\n",
              "    </script>\n",
              "  </div>\n",
              "\n",
              "\n",
              "<div id=\"df-908e0f27-9c48-44a9-a3a7-1de6452addef\">\n",
              "  <button class=\"colab-df-quickchart\" onclick=\"quickchart('df-908e0f27-9c48-44a9-a3a7-1de6452addef')\"\n",
              "            title=\"Suggest charts.\"\n",
              "            style=\"display:none;\">\n",
              "\n",
              "<svg xmlns=\"http://www.w3.org/2000/svg\" height=\"24px\"viewBox=\"0 0 24 24\"\n",
              "     width=\"24px\">\n",
              "    <g>\n",
              "        <path d=\"M19 3H5c-1.1 0-2 .9-2 2v14c0 1.1.9 2 2 2h14c1.1 0 2-.9 2-2V5c0-1.1-.9-2-2-2zM9 17H7v-7h2v7zm4 0h-2V7h2v10zm4 0h-2v-4h2v4z\"/>\n",
              "    </g>\n",
              "</svg>\n",
              "  </button>\n",
              "\n",
              "<style>\n",
              "  .colab-df-quickchart {\n",
              "      --bg-color: #E8F0FE;\n",
              "      --fill-color: #1967D2;\n",
              "      --hover-bg-color: #E2EBFA;\n",
              "      --hover-fill-color: #174EA6;\n",
              "      --disabled-fill-color: #AAA;\n",
              "      --disabled-bg-color: #DDD;\n",
              "  }\n",
              "\n",
              "  [theme=dark] .colab-df-quickchart {\n",
              "      --bg-color: #3B4455;\n",
              "      --fill-color: #D2E3FC;\n",
              "      --hover-bg-color: #434B5C;\n",
              "      --hover-fill-color: #FFFFFF;\n",
              "      --disabled-bg-color: #3B4455;\n",
              "      --disabled-fill-color: #666;\n",
              "  }\n",
              "\n",
              "  .colab-df-quickchart {\n",
              "    background-color: var(--bg-color);\n",
              "    border: none;\n",
              "    border-radius: 50%;\n",
              "    cursor: pointer;\n",
              "    display: none;\n",
              "    fill: var(--fill-color);\n",
              "    height: 32px;\n",
              "    padding: 0;\n",
              "    width: 32px;\n",
              "  }\n",
              "\n",
              "  .colab-df-quickchart:hover {\n",
              "    background-color: var(--hover-bg-color);\n",
              "    box-shadow: 0 1px 2px rgba(60, 64, 67, 0.3), 0 1px 3px 1px rgba(60, 64, 67, 0.15);\n",
              "    fill: var(--button-hover-fill-color);\n",
              "  }\n",
              "\n",
              "  .colab-df-quickchart-complete:disabled,\n",
              "  .colab-df-quickchart-complete:disabled:hover {\n",
              "    background-color: var(--disabled-bg-color);\n",
              "    fill: var(--disabled-fill-color);\n",
              "    box-shadow: none;\n",
              "  }\n",
              "\n",
              "  .colab-df-spinner {\n",
              "    border: 2px solid var(--fill-color);\n",
              "    border-color: transparent;\n",
              "    border-bottom-color: var(--fill-color);\n",
              "    animation:\n",
              "      spin 1s steps(1) infinite;\n",
              "  }\n",
              "\n",
              "  @keyframes spin {\n",
              "    0% {\n",
              "      border-color: transparent;\n",
              "      border-bottom-color: var(--fill-color);\n",
              "      border-left-color: var(--fill-color);\n",
              "    }\n",
              "    20% {\n",
              "      border-color: transparent;\n",
              "      border-left-color: var(--fill-color);\n",
              "      border-top-color: var(--fill-color);\n",
              "    }\n",
              "    30% {\n",
              "      border-color: transparent;\n",
              "      border-left-color: var(--fill-color);\n",
              "      border-top-color: var(--fill-color);\n",
              "      border-right-color: var(--fill-color);\n",
              "    }\n",
              "    40% {\n",
              "      border-color: transparent;\n",
              "      border-right-color: var(--fill-color);\n",
              "      border-top-color: var(--fill-color);\n",
              "    }\n",
              "    60% {\n",
              "      border-color: transparent;\n",
              "      border-right-color: var(--fill-color);\n",
              "    }\n",
              "    80% {\n",
              "      border-color: transparent;\n",
              "      border-right-color: var(--fill-color);\n",
              "      border-bottom-color: var(--fill-color);\n",
              "    }\n",
              "    90% {\n",
              "      border-color: transparent;\n",
              "      border-bottom-color: var(--fill-color);\n",
              "    }\n",
              "  }\n",
              "</style>\n",
              "\n",
              "  <script>\n",
              "    async function quickchart(key) {\n",
              "      const quickchartButtonEl =\n",
              "        document.querySelector('#' + key + ' button');\n",
              "      quickchartButtonEl.disabled = true;  // To prevent multiple clicks.\n",
              "      quickchartButtonEl.classList.add('colab-df-spinner');\n",
              "      try {\n",
              "        const charts = await google.colab.kernel.invokeFunction(\n",
              "            'suggestCharts', [key], {});\n",
              "      } catch (error) {\n",
              "        console.error('Error during call to suggestCharts:', error);\n",
              "      }\n",
              "      quickchartButtonEl.classList.remove('colab-df-spinner');\n",
              "      quickchartButtonEl.classList.add('colab-df-quickchart-complete');\n",
              "    }\n",
              "    (() => {\n",
              "      let quickchartButtonEl =\n",
              "        document.querySelector('#df-908e0f27-9c48-44a9-a3a7-1de6452addef button');\n",
              "      quickchartButtonEl.style.display =\n",
              "        google.colab.kernel.accessAllowed ? 'block' : 'none';\n",
              "    })();\n",
              "  </script>\n",
              "</div>\n",
              "    </div>\n",
              "  </div>\n"
            ]
          },
          "metadata": {},
          "execution_count": 24
        }
      ]
    },
    {
      "cell_type": "code",
      "source": [
        "new_df_date = df_date.dropna() #for dropping all the rows with null values\n",
        "\n",
        "# df.dropna(inplace = True) // it deletes the null data inplace\n",
        "\n",
        "print(df_date.info())\n",
        "print(new_df_date.info())"
      ],
      "metadata": {
        "colab": {
          "base_uri": "https://localhost:8080/"
        },
        "id": "GL3cHYqOLhM5",
        "outputId": "a6dfc452-758d-4549-d234-f08d4e5c752f"
      },
      "execution_count": 25,
      "outputs": [
        {
          "output_type": "stream",
          "name": "stdout",
          "text": [
            "<class 'pandas.core.frame.DataFrame'>\n",
            "RangeIndex: 32 entries, 0 to 31\n",
            "Data columns (total 5 columns):\n",
            " #   Column    Non-Null Count  Dtype  \n",
            "---  ------    --------------  -----  \n",
            " 0   Duration  32 non-null     int64  \n",
            " 1   Date      31 non-null     object \n",
            " 2   Pulse     32 non-null     int64  \n",
            " 3   Maxpulse  32 non-null     int64  \n",
            " 4   Sugar     30 non-null     float64\n",
            "dtypes: float64(1), int64(3), object(1)\n",
            "memory usage: 1.4+ KB\n",
            "None\n",
            "<class 'pandas.core.frame.DataFrame'>\n",
            "Int64Index: 29 entries, 0 to 31\n",
            "Data columns (total 5 columns):\n",
            " #   Column    Non-Null Count  Dtype  \n",
            "---  ------    --------------  -----  \n",
            " 0   Duration  29 non-null     int64  \n",
            " 1   Date      29 non-null     object \n",
            " 2   Pulse     29 non-null     int64  \n",
            " 3   Maxpulse  29 non-null     int64  \n",
            " 4   Sugar     29 non-null     float64\n",
            "dtypes: float64(1), int64(3), object(1)\n",
            "memory usage: 1.4+ KB\n",
            "None\n"
          ]
        }
      ]
    },
    {
      "cell_type": "code",
      "source": [
        "new_df_date = df_date.fillna(130)\n",
        "\n",
        "print(new_df_date)"
      ],
      "metadata": {
        "colab": {
          "base_uri": "https://localhost:8080/"
        },
        "id": "85jZ7_MzNwEi",
        "outputId": "7109c5b5-0890-48d1-b8ea-eeae15b0663c"
      },
      "execution_count": 27,
      "outputs": [
        {
          "output_type": "stream",
          "name": "stdout",
          "text": [
            "    Duration          Date  Pulse  Maxpulse  Sugar\n",
            "0         60  '2020/12/01'    110       130  409.1\n",
            "1         60  '2020/12/02'    117       145  479.0\n",
            "2         60  '2020/12/03'    103       135  340.0\n",
            "3         45  '2020/12/04'    109       175  282.4\n",
            "4         45  '2020/12/05'    117       148  406.0\n",
            "5         60  '2020/12/06'    102       127  300.0\n",
            "6         60  '2020/12/07'    110       136  374.0\n",
            "7        450  '2020/12/08'    104       134  253.3\n",
            "8         30  '2020/12/09'    109       133  195.1\n",
            "9         60  '2020/12/10'     98       124  269.0\n",
            "10        60  '2020/12/11'    103       147  329.3\n",
            "11        60  '2020/12/12'    100       120  250.7\n",
            "12        60  '2020/12/12'    100       120  250.7\n",
            "13        60  '2020/12/13'    106       128  345.3\n",
            "14        60  '2020/12/14'    104       132  379.3\n",
            "15        60  '2020/12/15'     98       123  275.0\n",
            "16        60  '2020/12/16'     98       120  215.2\n",
            "17        60  '2020/12/17'    100       120  300.0\n",
            "18        45  '2020/12/18'     90       112  130.0\n",
            "19        60  '2020/12/19'    103       123  323.0\n",
            "20        45  '2020/12/20'     97       125  243.0\n",
            "21        60  '2020/12/21'    108       131  364.2\n",
            "22        45           130    100       119  282.0\n",
            "23        60  '2020/12/23'    130       101  300.0\n",
            "24        45  '2020/12/24'    105       132  246.0\n",
            "25        60  '2020/12/25'    102       126  334.5\n",
            "26        60    26-12-2020    100       120  250.0\n",
            "27        60  '2020/12/27'     92       118  241.0\n",
            "28        60  '2020/12/28'    103       132  130.0\n",
            "29        60  '2020/12/29'    100       132  280.0\n",
            "30        60  '2020/12/30'    102       129  380.3\n",
            "31        60  '2020/12/31'     92       115  243.0\n"
          ]
        }
      ]
    },
    {
      "cell_type": "code",
      "source": [
        "df_date['Sugar'].fillna(130, inplace = True)\n",
        "\n",
        "print(df_date)"
      ],
      "metadata": {
        "colab": {
          "base_uri": "https://localhost:8080/"
        },
        "id": "1nUmnS4cP1Hv",
        "outputId": "fc6d3725-ba1a-4cc5-cf78-5db6c708bce6"
      },
      "execution_count": 28,
      "outputs": [
        {
          "output_type": "stream",
          "name": "stdout",
          "text": [
            "    Duration          Date  Pulse  Maxpulse  Sugar\n",
            "0         60  '2020/12/01'    110       130  409.1\n",
            "1         60  '2020/12/02'    117       145  479.0\n",
            "2         60  '2020/12/03'    103       135  340.0\n",
            "3         45  '2020/12/04'    109       175  282.4\n",
            "4         45  '2020/12/05'    117       148  406.0\n",
            "5         60  '2020/12/06'    102       127  300.0\n",
            "6         60  '2020/12/07'    110       136  374.0\n",
            "7        450  '2020/12/08'    104       134  253.3\n",
            "8         30  '2020/12/09'    109       133  195.1\n",
            "9         60  '2020/12/10'     98       124  269.0\n",
            "10        60  '2020/12/11'    103       147  329.3\n",
            "11        60  '2020/12/12'    100       120  250.7\n",
            "12        60  '2020/12/12'    100       120  250.7\n",
            "13        60  '2020/12/13'    106       128  345.3\n",
            "14        60  '2020/12/14'    104       132  379.3\n",
            "15        60  '2020/12/15'     98       123  275.0\n",
            "16        60  '2020/12/16'     98       120  215.2\n",
            "17        60  '2020/12/17'    100       120  300.0\n",
            "18        45  '2020/12/18'     90       112  130.0\n",
            "19        60  '2020/12/19'    103       123  323.0\n",
            "20        45  '2020/12/20'     97       125  243.0\n",
            "21        60  '2020/12/21'    108       131  364.2\n",
            "22        45           NaN    100       119  282.0\n",
            "23        60  '2020/12/23'    130       101  300.0\n",
            "24        45  '2020/12/24'    105       132  246.0\n",
            "25        60  '2020/12/25'    102       126  334.5\n",
            "26        60    26-12-2020    100       120  250.0\n",
            "27        60  '2020/12/27'     92       118  241.0\n",
            "28        60  '2020/12/28'    103       132  130.0\n",
            "29        60  '2020/12/29'    100       132  280.0\n",
            "30        60  '2020/12/30'    102       129  380.3\n",
            "31        60  '2020/12/31'     92       115  243.0\n"
          ]
        }
      ]
    },
    {
      "cell_type": "markdown",
      "source": [
        "For filling up null cells, we can use mean, median or mode"
      ],
      "metadata": {
        "id": "ZZuoluz9TaJ8"
      }
    },
    {
      "cell_type": "code",
      "source": [
        "mean = df_date['Sugar'].mean()\n",
        "median = df_date['Sugar'].median()\n",
        "mode = df_date['Sugar'].mode()\n",
        "\n",
        "df_date['Sugar'].fillna(mean, inplace = True) #filling mean\n",
        "#df_date['Sugar'].fillna(median, inplace = True) #filling median\n",
        "#df_date['Sugar'].fillna(mode, inplace = True) #filling mode"
      ],
      "metadata": {
        "id": "afe_rxa5QVA6"
      },
      "execution_count": 29,
      "outputs": []
    },
    {
      "cell_type": "code",
      "source": [
        "df_date.drop_duplicates(inplace = True)\n"
      ],
      "metadata": {
        "id": "nYCTkwAQcFEc"
      },
      "execution_count": 30,
      "outputs": []
    },
    {
      "cell_type": "code",
      "source": [],
      "metadata": {
        "id": "bsEkSNO4cNFx"
      },
      "execution_count": null,
      "outputs": []
    }
  ]
}